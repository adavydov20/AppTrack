{
 "cells": [
  {
   "cell_type": "markdown",
   "id": "70eca276",
   "metadata": {},
   "source": [
    "# AppTrack"
   ]
  },
  {
   "cell_type": "code",
   "execution_count": 80,
   "id": "d9a065b0",
   "metadata": {},
   "outputs": [],
   "source": [
    "import pandas as pd\n",
    "import numpy as np\n",
    "import requests\n",
    "import json\n",
    "import time\n",
    "import matplotlib.pyplot as plt\n",
    "import seaborn as sns\n",
    "import re\n",
    "from sklearn.model_selection import train_test_split, cross_val_score\n",
    "from sklearn.ensemble import RandomForestClassifier\n",
    "from sklearn.metrics import accuracy_score, classification_report, confusion_matrix\n",
    "from sklearn.utils import shuffle\n",
    "from google_play_scraper import search, app\n",
    "import joblib"
   ]
  },
  {
   "cell_type": "code",
   "execution_count": 81,
   "id": "0f5aa564",
   "metadata": {},
   "outputs": [],
   "source": [
    "def scrape_google_play(base_query, num_results=200):\n",
    "    all_results = []\n",
    "    existing_ids = set()\n",
    "    search_variations = [base_query, f\"top {base_query}\", f\"best {base_query}\", \n",
    "                         f\"popular {base_query}\", f\"trending {base_query}\", \n",
    "                         f\"new {base_query}\", f\"hot {base_query}\"]\n",
    "    \n",
    "    for query in search_variations:\n",
    "        results = search(query)\n",
    "        for result in results:\n",
    "            if result['appId'] not in existing_ids and len(all_results) < num_results:\n",
    "                try:\n",
    "                    details = app(result['appId'])\n",
    "                    all_results.append({\n",
    "                        'name': details['title'],\n",
    "                        'category': details['genre'],\n",
    "                        'rating': details.get('score', 0),\n",
    "                        'reviews': details.get('ratings', 0),\n",
    "                        'installs': details.get('installs', '0'),\n",
    "                        'price': details.get('price', 0),\n",
    "                        'description': details.get('description', ''),\n",
    "                        'updated': details.get('updated', ''),\n",
    "                        'developer': details.get('developer', '')\n",
    "                    })\n",
    "                    existing_ids.add(result['appId'])\n",
    "                except:\n",
    "                    continue\n",
    "                time.sleep(1)\n",
    "    \n",
    "    return pd.DataFrame(all_results)"
   ]
  },
  {
   "cell_type": "code",
   "execution_count": 82,
   "id": "dab026e1",
   "metadata": {},
   "outputs": [],
   "source": [
    "#Choose category\n",
    "category = \"fitness\""
   ]
  },
  {
   "cell_type": "code",
   "execution_count": 83,
   "id": "7ae8ce4f",
   "metadata": {},
   "outputs": [
    {
     "name": "stdout",
     "output_type": "stream",
     "text": [
      "Total apps scraped: 88\n"
     ]
    }
   ],
   "source": [
    "app_df = scrape_google_play(category, num_results=200)\n",
    "print(f\"Total apps scraped: {len(app_df)}\")"
   ]
  },
  {
   "cell_type": "code",
   "execution_count": 84,
   "id": "ede11ded",
   "metadata": {},
   "outputs": [
    {
     "name": "stdout",
     "output_type": "stream",
     "text": [
      "Data saved to data/fitness_apps.csv\n"
     ]
    }
   ],
   "source": [
    "category_file_name = re.sub(r'[^a-zA-Z0-9]', '_', category.lower())\n",
    "csv_filename = f\"data/{category_file_name}_apps.csv\"\n",
    "app_df.to_csv(csv_filename, index=False)\n",
    "\n",
    "print(f\"Data saved to {csv_filename}\")"
   ]
  },
  {
   "cell_type": "markdown",
   "id": "838ab6dd",
   "metadata": {},
   "source": [
    "### Data Preprocessing"
   ]
  },
  {
   "cell_type": "code",
   "execution_count": 85,
   "id": "ad6ee9e0",
   "metadata": {},
   "outputs": [],
   "source": [
    "app_df = pd.read_csv(f\"~/Desktop/Portfolio Projects/AppTrack/data/{category_file_name}_apps.csv\")"
   ]
  },
  {
   "cell_type": "code",
   "execution_count": 86,
   "id": "9ef4ca0b",
   "metadata": {},
   "outputs": [
    {
     "data": {
      "text/plain": [
       "(88, 9)"
      ]
     },
     "execution_count": 86,
     "metadata": {},
     "output_type": "execute_result"
    }
   ],
   "source": [
    "app_df.shape"
   ]
  },
  {
   "cell_type": "code",
   "execution_count": 87,
   "id": "006fea5d",
   "metadata": {},
   "outputs": [
    {
     "data": {
      "text/html": [
       "<div>\n",
       "<style scoped>\n",
       "    .dataframe tbody tr th:only-of-type {\n",
       "        vertical-align: middle;\n",
       "    }\n",
       "\n",
       "    .dataframe tbody tr th {\n",
       "        vertical-align: top;\n",
       "    }\n",
       "\n",
       "    .dataframe thead th {\n",
       "        text-align: right;\n",
       "    }\n",
       "</style>\n",
       "<table border=\"1\" class=\"dataframe\">\n",
       "  <thead>\n",
       "    <tr style=\"text-align: right;\">\n",
       "      <th></th>\n",
       "      <th>name</th>\n",
       "      <th>category</th>\n",
       "      <th>rating</th>\n",
       "      <th>reviews</th>\n",
       "      <th>installs</th>\n",
       "      <th>price</th>\n",
       "      <th>description</th>\n",
       "      <th>updated</th>\n",
       "      <th>developer</th>\n",
       "    </tr>\n",
       "  </thead>\n",
       "  <tbody>\n",
       "    <tr>\n",
       "      <th>0</th>\n",
       "      <td>Google Fit: Activity Tracking</td>\n",
       "      <td>Health &amp; Fitness</td>\n",
       "      <td>3.669222</td>\n",
       "      <td>649289.0</td>\n",
       "      <td>100,000,000+</td>\n",
       "      <td>0</td>\n",
       "      <td>Get to a healthier and more active life with t...</td>\n",
       "      <td>1738321250</td>\n",
       "      <td>Google LLC</td>\n",
       "    </tr>\n",
       "    <tr>\n",
       "      <th>1</th>\n",
       "      <td>Home Workout - No Equipment</td>\n",
       "      <td>Health &amp; Fitness</td>\n",
       "      <td>4.883112</td>\n",
       "      <td>3556792.0</td>\n",
       "      <td>100,000,000+</td>\n",
       "      <td>0</td>\n",
       "      <td>Home Workouts provides daily workout routines ...</td>\n",
       "      <td>1736765316</td>\n",
       "      <td>Leap Fitness Group</td>\n",
       "    </tr>\n",
       "    <tr>\n",
       "      <th>2</th>\n",
       "      <td>Planet Fitness Workouts</td>\n",
       "      <td>Health &amp; Fitness</td>\n",
       "      <td>4.634123</td>\n",
       "      <td>65634.0</td>\n",
       "      <td>10,000,000+</td>\n",
       "      <td>0</td>\n",
       "      <td>Welcome to the Planet Fitness App: The Gym in ...</td>\n",
       "      <td>1739287189</td>\n",
       "      <td>Planet Fitness</td>\n",
       "    </tr>\n",
       "    <tr>\n",
       "      <th>3</th>\n",
       "      <td>Samsung Health</td>\n",
       "      <td>Health &amp; Fitness</td>\n",
       "      <td>3.627035</td>\n",
       "      <td>1520527.0</td>\n",
       "      <td>1,000,000,000+</td>\n",
       "      <td>0</td>\n",
       "      <td>Start healthy habits for yourself with Samsung...</td>\n",
       "      <td>1738931965</td>\n",
       "      <td>Samsung Electronics Co.,  Ltd.</td>\n",
       "    </tr>\n",
       "    <tr>\n",
       "      <th>4</th>\n",
       "      <td>MyFitnessPal: Calorie Counter</td>\n",
       "      <td>Health &amp; Fitness</td>\n",
       "      <td>4.337247</td>\n",
       "      <td>2798458.0</td>\n",
       "      <td>100,000,000+</td>\n",
       "      <td>0</td>\n",
       "      <td>Track progress toward your health, nutrition, ...</td>\n",
       "      <td>1738874714</td>\n",
       "      <td>MyFitnessPal, Inc.</td>\n",
       "    </tr>\n",
       "  </tbody>\n",
       "</table>\n",
       "</div>"
      ],
      "text/plain": [
       "                            name          category    rating    reviews  \\\n",
       "0  Google Fit: Activity Tracking  Health & Fitness  3.669222   649289.0   \n",
       "1    Home Workout - No Equipment  Health & Fitness  4.883112  3556792.0   \n",
       "2        Planet Fitness Workouts  Health & Fitness  4.634123    65634.0   \n",
       "3                 Samsung Health  Health & Fitness  3.627035  1520527.0   \n",
       "4  MyFitnessPal: Calorie Counter  Health & Fitness  4.337247  2798458.0   \n",
       "\n",
       "         installs  price                                        description  \\\n",
       "0    100,000,000+      0  Get to a healthier and more active life with t...   \n",
       "1    100,000,000+      0  Home Workouts provides daily workout routines ...   \n",
       "2     10,000,000+      0  Welcome to the Planet Fitness App: The Gym in ...   \n",
       "3  1,000,000,000+      0  Start healthy habits for yourself with Samsung...   \n",
       "4    100,000,000+      0  Track progress toward your health, nutrition, ...   \n",
       "\n",
       "      updated                       developer  \n",
       "0  1738321250                      Google LLC  \n",
       "1  1736765316              Leap Fitness Group  \n",
       "2  1739287189                  Planet Fitness  \n",
       "3  1738931965  Samsung Electronics Co.,  Ltd.  \n",
       "4  1738874714              MyFitnessPal, Inc.  "
      ]
     },
     "execution_count": 87,
     "metadata": {},
     "output_type": "execute_result"
    }
   ],
   "source": [
    "app_df.head()"
   ]
  },
  {
   "cell_type": "code",
   "execution_count": 88,
   "id": "7e446a87",
   "metadata": {},
   "outputs": [],
   "source": [
    "def preprocess_data(df):\n",
    "    df.dropna(inplace=True)\n",
    "    df['installs'] = df['installs'].str.replace('[+,]', '', regex=True).astype(int)\n",
    "    df['price'] = df['price'].astype(float)\n",
    "    df['rating'] = df['rating'].fillna(df['rating'].median())\n",
    "    df['reviews'] = df['reviews'].astype(int)\n",
    "    df['category'] = df['category'].astype(str)\n",
    "    df['description_length'] = df['description'].apply(lambda x: len(str(x)))\n",
    "    df['is_paid'] = df['price'].apply(lambda x: 1 if x > 0 else 0)\n",
    "    return df"
   ]
  },
  {
   "cell_type": "code",
   "execution_count": 89,
   "id": "e3e0d9ed",
   "metadata": {},
   "outputs": [],
   "source": [
    "app_df = preprocess_data(app_df)"
   ]
  },
  {
   "cell_type": "code",
   "execution_count": 90,
   "id": "5d73ec41",
   "metadata": {},
   "outputs": [],
   "source": [
    "app_df[\"success\"] = ((app_df[\"installs\"].astype(int) > app_df[\"installs\"].median()) & \n",
    "                     (app_df[\"reviews\"].astype(int) > app_df[\"reviews\"].median()) & \n",
    "                     (app_df[\"rating\"] >= 4.0)).astype(int)"
   ]
  },
  {
   "cell_type": "code",
   "execution_count": 91,
   "id": "99be7c35",
   "metadata": {
    "scrolled": true
   },
   "outputs": [
    {
     "data": {
      "text/html": [
       "<div>\n",
       "<style scoped>\n",
       "    .dataframe tbody tr th:only-of-type {\n",
       "        vertical-align: middle;\n",
       "    }\n",
       "\n",
       "    .dataframe tbody tr th {\n",
       "        vertical-align: top;\n",
       "    }\n",
       "\n",
       "    .dataframe thead th {\n",
       "        text-align: right;\n",
       "    }\n",
       "</style>\n",
       "<table border=\"1\" class=\"dataframe\">\n",
       "  <thead>\n",
       "    <tr style=\"text-align: right;\">\n",
       "      <th></th>\n",
       "      <th>name</th>\n",
       "      <th>category</th>\n",
       "      <th>rating</th>\n",
       "      <th>reviews</th>\n",
       "      <th>installs</th>\n",
       "      <th>price</th>\n",
       "      <th>description</th>\n",
       "      <th>updated</th>\n",
       "      <th>developer</th>\n",
       "      <th>description_length</th>\n",
       "      <th>is_paid</th>\n",
       "      <th>success</th>\n",
       "    </tr>\n",
       "  </thead>\n",
       "  <tbody>\n",
       "    <tr>\n",
       "      <th>0</th>\n",
       "      <td>Google Fit: Activity Tracking</td>\n",
       "      <td>Health &amp; Fitness</td>\n",
       "      <td>3.669222</td>\n",
       "      <td>649289</td>\n",
       "      <td>100000000</td>\n",
       "      <td>0.0</td>\n",
       "      <td>Get to a healthier and more active life with t...</td>\n",
       "      <td>1738321250</td>\n",
       "      <td>Google LLC</td>\n",
       "      <td>3058</td>\n",
       "      <td>0</td>\n",
       "      <td>0</td>\n",
       "    </tr>\n",
       "    <tr>\n",
       "      <th>1</th>\n",
       "      <td>Home Workout - No Equipment</td>\n",
       "      <td>Health &amp; Fitness</td>\n",
       "      <td>4.883112</td>\n",
       "      <td>3556792</td>\n",
       "      <td>100000000</td>\n",
       "      <td>0.0</td>\n",
       "      <td>Home Workouts provides daily workout routines ...</td>\n",
       "      <td>1736765316</td>\n",
       "      <td>Leap Fitness Group</td>\n",
       "      <td>2718</td>\n",
       "      <td>0</td>\n",
       "      <td>1</td>\n",
       "    </tr>\n",
       "    <tr>\n",
       "      <th>2</th>\n",
       "      <td>Planet Fitness Workouts</td>\n",
       "      <td>Health &amp; Fitness</td>\n",
       "      <td>4.634123</td>\n",
       "      <td>65634</td>\n",
       "      <td>10000000</td>\n",
       "      <td>0.0</td>\n",
       "      <td>Welcome to the Planet Fitness App: The Gym in ...</td>\n",
       "      <td>1739287189</td>\n",
       "      <td>Planet Fitness</td>\n",
       "      <td>3740</td>\n",
       "      <td>0</td>\n",
       "      <td>1</td>\n",
       "    </tr>\n",
       "    <tr>\n",
       "      <th>3</th>\n",
       "      <td>Samsung Health</td>\n",
       "      <td>Health &amp; Fitness</td>\n",
       "      <td>3.627035</td>\n",
       "      <td>1520527</td>\n",
       "      <td>1000000000</td>\n",
       "      <td>0.0</td>\n",
       "      <td>Start healthy habits for yourself with Samsung...</td>\n",
       "      <td>1738931965</td>\n",
       "      <td>Samsung Electronics Co.,  Ltd.</td>\n",
       "      <td>4014</td>\n",
       "      <td>0</td>\n",
       "      <td>0</td>\n",
       "    </tr>\n",
       "    <tr>\n",
       "      <th>4</th>\n",
       "      <td>MyFitnessPal: Calorie Counter</td>\n",
       "      <td>Health &amp; Fitness</td>\n",
       "      <td>4.337247</td>\n",
       "      <td>2798458</td>\n",
       "      <td>100000000</td>\n",
       "      <td>0.0</td>\n",
       "      <td>Track progress toward your health, nutrition, ...</td>\n",
       "      <td>1738874714</td>\n",
       "      <td>MyFitnessPal, Inc.</td>\n",
       "      <td>4008</td>\n",
       "      <td>0</td>\n",
       "      <td>1</td>\n",
       "    </tr>\n",
       "  </tbody>\n",
       "</table>\n",
       "</div>"
      ],
      "text/plain": [
       "                            name          category    rating  reviews  \\\n",
       "0  Google Fit: Activity Tracking  Health & Fitness  3.669222   649289   \n",
       "1    Home Workout - No Equipment  Health & Fitness  4.883112  3556792   \n",
       "2        Planet Fitness Workouts  Health & Fitness  4.634123    65634   \n",
       "3                 Samsung Health  Health & Fitness  3.627035  1520527   \n",
       "4  MyFitnessPal: Calorie Counter  Health & Fitness  4.337247  2798458   \n",
       "\n",
       "     installs  price                                        description  \\\n",
       "0   100000000    0.0  Get to a healthier and more active life with t...   \n",
       "1   100000000    0.0  Home Workouts provides daily workout routines ...   \n",
       "2    10000000    0.0  Welcome to the Planet Fitness App: The Gym in ...   \n",
       "3  1000000000    0.0  Start healthy habits for yourself with Samsung...   \n",
       "4   100000000    0.0  Track progress toward your health, nutrition, ...   \n",
       "\n",
       "      updated                       developer  description_length  is_paid  \\\n",
       "0  1738321250                      Google LLC                3058        0   \n",
       "1  1736765316              Leap Fitness Group                2718        0   \n",
       "2  1739287189                  Planet Fitness                3740        0   \n",
       "3  1738931965  Samsung Electronics Co.,  Ltd.                4014        0   \n",
       "4  1738874714              MyFitnessPal, Inc.                4008        0   \n",
       "\n",
       "   success  \n",
       "0        0  \n",
       "1        1  \n",
       "2        1  \n",
       "3        0  \n",
       "4        1  "
      ]
     },
     "execution_count": 91,
     "metadata": {},
     "output_type": "execute_result"
    }
   ],
   "source": [
    "app_df.head()"
   ]
  },
  {
   "cell_type": "code",
   "execution_count": 92,
   "id": "28fee448",
   "metadata": {},
   "outputs": [],
   "source": [
    "X = app_df[['reviews', 'installs', 'rating', 'description_length', 'is_paid']]\n",
    "y = app_df[\"success\"]"
   ]
  },
  {
   "cell_type": "code",
   "execution_count": 93,
   "id": "f09ecf69",
   "metadata": {},
   "outputs": [],
   "source": [
    "app_df = shuffle(app_df, random_state=42)\n",
    "\n",
    "X_train, X_test, y_train, y_test = train_test_split(X, y, test_size=0.4, random_state=42)"
   ]
  },
  {
   "cell_type": "code",
   "execution_count": 94,
   "id": "4f5eccda",
   "metadata": {},
   "outputs": [
    {
     "data": {
      "text/plain": [
       "(46, 46, 32, 32)"
      ]
     },
     "execution_count": 94,
     "metadata": {},
     "output_type": "execute_result"
    }
   ],
   "source": [
    "len(X_train),len(y_train),len(X_test),len(y_test)"
   ]
  },
  {
   "cell_type": "code",
   "execution_count": 95,
   "id": "bf4be122",
   "metadata": {},
   "outputs": [
    {
     "data": {
      "text/html": [
       "<style>#sk-container-id-11 {color: black;background-color: white;}#sk-container-id-11 pre{padding: 0;}#sk-container-id-11 div.sk-toggleable {background-color: white;}#sk-container-id-11 label.sk-toggleable__label {cursor: pointer;display: block;width: 100%;margin-bottom: 0;padding: 0.3em;box-sizing: border-box;text-align: center;}#sk-container-id-11 label.sk-toggleable__label-arrow:before {content: \"▸\";float: left;margin-right: 0.25em;color: #696969;}#sk-container-id-11 label.sk-toggleable__label-arrow:hover:before {color: black;}#sk-container-id-11 div.sk-estimator:hover label.sk-toggleable__label-arrow:before {color: black;}#sk-container-id-11 div.sk-toggleable__content {max-height: 0;max-width: 0;overflow: hidden;text-align: left;background-color: #f0f8ff;}#sk-container-id-11 div.sk-toggleable__content pre {margin: 0.2em;color: black;border-radius: 0.25em;background-color: #f0f8ff;}#sk-container-id-11 input.sk-toggleable__control:checked~div.sk-toggleable__content {max-height: 200px;max-width: 100%;overflow: auto;}#sk-container-id-11 input.sk-toggleable__control:checked~label.sk-toggleable__label-arrow:before {content: \"▾\";}#sk-container-id-11 div.sk-estimator input.sk-toggleable__control:checked~label.sk-toggleable__label {background-color: #d4ebff;}#sk-container-id-11 div.sk-label input.sk-toggleable__control:checked~label.sk-toggleable__label {background-color: #d4ebff;}#sk-container-id-11 input.sk-hidden--visually {border: 0;clip: rect(1px 1px 1px 1px);clip: rect(1px, 1px, 1px, 1px);height: 1px;margin: -1px;overflow: hidden;padding: 0;position: absolute;width: 1px;}#sk-container-id-11 div.sk-estimator {font-family: monospace;background-color: #f0f8ff;border: 1px dotted black;border-radius: 0.25em;box-sizing: border-box;margin-bottom: 0.5em;}#sk-container-id-11 div.sk-estimator:hover {background-color: #d4ebff;}#sk-container-id-11 div.sk-parallel-item::after {content: \"\";width: 100%;border-bottom: 1px solid gray;flex-grow: 1;}#sk-container-id-11 div.sk-label:hover label.sk-toggleable__label {background-color: #d4ebff;}#sk-container-id-11 div.sk-serial::before {content: \"\";position: absolute;border-left: 1px solid gray;box-sizing: border-box;top: 0;bottom: 0;left: 50%;z-index: 0;}#sk-container-id-11 div.sk-serial {display: flex;flex-direction: column;align-items: center;background-color: white;padding-right: 0.2em;padding-left: 0.2em;position: relative;}#sk-container-id-11 div.sk-item {position: relative;z-index: 1;}#sk-container-id-11 div.sk-parallel {display: flex;align-items: stretch;justify-content: center;background-color: white;position: relative;}#sk-container-id-11 div.sk-item::before, #sk-container-id-11 div.sk-parallel-item::before {content: \"\";position: absolute;border-left: 1px solid gray;box-sizing: border-box;top: 0;bottom: 0;left: 50%;z-index: -1;}#sk-container-id-11 div.sk-parallel-item {display: flex;flex-direction: column;z-index: 1;position: relative;background-color: white;}#sk-container-id-11 div.sk-parallel-item:first-child::after {align-self: flex-end;width: 50%;}#sk-container-id-11 div.sk-parallel-item:last-child::after {align-self: flex-start;width: 50%;}#sk-container-id-11 div.sk-parallel-item:only-child::after {width: 0;}#sk-container-id-11 div.sk-dashed-wrapped {border: 1px dashed gray;margin: 0 0.4em 0.5em 0.4em;box-sizing: border-box;padding-bottom: 0.4em;background-color: white;}#sk-container-id-11 div.sk-label label {font-family: monospace;font-weight: bold;display: inline-block;line-height: 1.2em;}#sk-container-id-11 div.sk-label-container {text-align: center;}#sk-container-id-11 div.sk-container {/* jupyter's `normalize.less` sets `[hidden] { display: none; }` but bootstrap.min.css set `[hidden] { display: none !important; }` so we also need the `!important` here to be able to override the default hidden behavior on the sphinx rendered scikit-learn.org. See: https://github.com/scikit-learn/scikit-learn/issues/21755 */display: inline-block !important;position: relative;}#sk-container-id-11 div.sk-text-repr-fallback {display: none;}</style><div id=\"sk-container-id-11\" class=\"sk-top-container\"><div class=\"sk-text-repr-fallback\"><pre>RandomForestClassifier(max_depth=5, n_estimators=50, random_state=42)</pre><b>In a Jupyter environment, please rerun this cell to show the HTML representation or trust the notebook. <br />On GitHub, the HTML representation is unable to render, please try loading this page with nbviewer.org.</b></div><div class=\"sk-container\" hidden><div class=\"sk-item\"><div class=\"sk-estimator sk-toggleable\"><input class=\"sk-toggleable__control sk-hidden--visually\" id=\"sk-estimator-id-11\" type=\"checkbox\" checked><label for=\"sk-estimator-id-11\" class=\"sk-toggleable__label sk-toggleable__label-arrow\">RandomForestClassifier</label><div class=\"sk-toggleable__content\"><pre>RandomForestClassifier(max_depth=5, n_estimators=50, random_state=42)</pre></div></div></div></div></div>"
      ],
      "text/plain": [
       "RandomForestClassifier(max_depth=5, n_estimators=50, random_state=42)"
      ]
     },
     "execution_count": 95,
     "metadata": {},
     "output_type": "execute_result"
    }
   ],
   "source": [
    "model = RandomForestClassifier(n_estimators=50, max_depth=5, random_state=42)\n",
    "model.fit(X_train, y_train)"
   ]
  },
  {
   "cell_type": "code",
   "execution_count": 96,
   "id": "fa3ae1a5",
   "metadata": {},
   "outputs": [
    {
     "name": "stdout",
     "output_type": "stream",
     "text": [
      "Accuracy: 0.90625\n",
      "              precision    recall  f1-score   support\n",
      "\n",
      "           0       0.89      0.94      0.92        18\n",
      "           1       0.92      0.86      0.89        14\n",
      "\n",
      "    accuracy                           0.91        32\n",
      "   macro avg       0.91      0.90      0.90        32\n",
      "weighted avg       0.91      0.91      0.91        32\n",
      "\n"
     ]
    }
   ],
   "source": [
    "y_pred = model.predict(X_test)\n",
    "print(\"Accuracy:\", accuracy_score(y_test, y_pred))\n",
    "print(classification_report(y_test, y_pred, zero_division=0))"
   ]
  },
  {
   "cell_type": "code",
   "execution_count": 97,
   "id": "2c13ca1f",
   "metadata": {
    "scrolled": false
   },
   "outputs": [
    {
     "data": {
      "image/png": "[encoded data removed]",
      "text/plain": [
       "<Figure size 800x600 with 2 Axes>"
      ]
     },
     "metadata": {},
     "output_type": "display_data"
    }
   ],
   "source": [
    "plt.figure(figsize=(8, 6))\n",
    "sns.heatmap(confusion_matrix(y_test, y_pred), annot=True, fmt='d', cmap='Blues')\n",
    "plt.xlabel(\"Predicted\")\n",
    "plt.ylabel(\"Actual\")\n",
    "plt.title(\"Confusion Matrix\")\n",
    "plt.show()"
   ]
  },
  {
   "cell_type": "code",
   "execution_count": 98,
   "id": "9e68b1d9",
   "metadata": {},
   "outputs": [
    {
     "data": {
      "image/png": "[encoded data removed]",
      "text/plain": [
       "<Figure size 800x500 with 1 Axes>"
      ]
     },
     "metadata": {},
     "output_type": "display_data"
    }
   ],
   "source": [
    "feature_importances = model.feature_importances_\n",
    "feature_names = X.columns\n",
    "sorted_idx = np.argsort(feature_importances)\n",
    "\n",
    "plt.figure(figsize=(8,5))\n",
    "plt.barh(range(len(sorted_idx)), feature_importances[sorted_idx], align=\"center\")\n",
    "plt.yticks(range(len(sorted_idx)), np.array(feature_names)[sorted_idx])\n",
    "plt.xlabel(\"Feature Importance\")\n",
    "plt.title(\"Random Forest Feature Importance\")\n",
    "plt.show()"
   ]
  },
  {
   "cell_type": "code",
   "execution_count": 99,
   "id": "ba0cd627",
   "metadata": {},
   "outputs": [
    {
     "name": "stdout",
     "output_type": "stream",
     "text": [
      "Cross-validation scores: [0.75       0.875      1.         1.         0.93333333]\n",
      "Mean accuracy: 0.9116666666666667\n"
     ]
    }
   ],
   "source": [
    "cv_scores = cross_val_score(model, X, y, cv=5)\n",
    "print(\"Cross-validation scores:\", cv_scores)\n",
    "print(\"Mean accuracy:\", cv_scores.mean())"
   ]
  },
  {
   "cell_type": "code",
   "execution_count": 100,
   "id": "517004f2",
   "metadata": {},
   "outputs": [
    {
     "data": {
      "text/plain": [
       "['models/app_success_model.pkl']"
      ]
     },
     "execution_count": 100,
     "metadata": {},
     "output_type": "execute_result"
    }
   ],
   "source": [
    "joblib.dump(model, \"models/app_success_model.pkl\")"
   ]
  }
 ],
 "metadata": {
  "kernelspec": {
   "display_name": "Python 3 (ipykernel)",
   "language": "python",
   "name": "python3"
  },
  "language_info": {
   "codemirror_mode": {
    "name": "ipython",
    "version": 3
   },
   "file_extension": ".py",
   "mimetype": "text/x-python",
   "name": "python",
   "nbconvert_exporter": "python",
   "pygments_lexer": "ipython3",
   "version": "3.10.9"
  }
 },
 "nbformat": 4,
 "nbformat_minor": 5
}
